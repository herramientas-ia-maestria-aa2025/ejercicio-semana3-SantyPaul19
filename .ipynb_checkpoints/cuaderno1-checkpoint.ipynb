{
 "cells": [
  {
   "cell_type": "code",
   "execution_count": 11,
   "id": "28f32a63-cfcb-4c4b-83a7-6b76b696badb",
   "metadata": {},
   "outputs": [],
   "source": [
    "import pandas as pd"
   ]
  },
  {
   "cell_type": "code",
   "execution_count": 5,
   "id": "a0a8ab14-f9b9-4253-a36b-0f005ced931a",
   "metadata": {},
   "outputs": [
    {
     "name": "stdout",
     "output_type": "stream",
     "text": [
      "Requirement already satisfied: faker in c:\\users\\santi\\onedrive\\escritorio\\maestria\\entornos\\clases\\lib\\site-packages (37.1.0)\n",
      "Requirement already satisfied: tzdata in c:\\users\\santi\\onedrive\\escritorio\\maestria\\entornos\\clases\\lib\\site-packages (from faker) (2025.2)\n"
     ]
    }
   ],
   "source": [
    "!pip install faker"
   ]
  },
  {
   "cell_type": "code",
   "execution_count": 6,
   "id": "0af97480-0f90-4653-93ed-53403faea8b2",
   "metadata": {},
   "outputs": [],
   "source": [
    "from faker import Faker\n",
    "fake = Faker()"
   ]
  },
  {
   "cell_type": "code",
   "execution_count": 7,
   "id": "d7ff37b6-2f2e-489d-b8f1-0936cfa0b095",
   "metadata": {},
   "outputs": [],
   "source": [
    "lista = []"
   ]
  },
  {
   "cell_type": "code",
   "execution_count": 8,
   "id": "d511676f-fada-41b6-9018-cd8fbcc216c5",
   "metadata": {},
   "outputs": [],
   "source": [
    "for x in range(1000):\n",
    "    lista.append({'nombre': fake.name(), 'apellido' : fake.last_name(), 'email' : fake.email(), 'address' : fake.address()})"
   ]
  },
  {
   "cell_type": "code",
   "execution_count": 12,
   "id": "8e906482-5bf6-4141-a66a-f15fcee83991",
   "metadata": {},
   "outputs": [],
   "source": [
    "data = pd.DataFrame(lista)"
   ]
  },
  {
   "cell_type": "code",
   "execution_count": 13,
   "id": "1726b5e2-86a2-445a-add6-baa803b6915b",
   "metadata": {},
   "outputs": [
    {
     "data": {
      "text/html": [
       "<div>\n",
       "<style scoped>\n",
       "    .dataframe tbody tr th:only-of-type {\n",
       "        vertical-align: middle;\n",
       "    }\n",
       "\n",
       "    .dataframe tbody tr th {\n",
       "        vertical-align: top;\n",
       "    }\n",
       "\n",
       "    .dataframe thead th {\n",
       "        text-align: right;\n",
       "    }\n",
       "</style>\n",
       "<table border=\"1\" class=\"dataframe\">\n",
       "  <thead>\n",
       "    <tr style=\"text-align: right;\">\n",
       "      <th></th>\n",
       "      <th>nombre</th>\n",
       "      <th>apellido</th>\n",
       "      <th>email</th>\n",
       "      <th>address</th>\n",
       "    </tr>\n",
       "  </thead>\n",
       "  <tbody>\n",
       "    <tr>\n",
       "      <th>0</th>\n",
       "      <td>Jennifer Yu</td>\n",
       "      <td>Cross</td>\n",
       "      <td>xhubbard@example.net</td>\n",
       "      <td>37592 William Burgs Suite 380\\nSouth Randallha...</td>\n",
       "    </tr>\n",
       "    <tr>\n",
       "      <th>1</th>\n",
       "      <td>Tamara Daniels</td>\n",
       "      <td>Sexton</td>\n",
       "      <td>hhughes@example.net</td>\n",
       "      <td>24191 Emily Streets Apt. 241\\nSouth Jennifermo...</td>\n",
       "    </tr>\n",
       "    <tr>\n",
       "      <th>2</th>\n",
       "      <td>Jessica Weber</td>\n",
       "      <td>Munoz</td>\n",
       "      <td>murrayrachael@example.net</td>\n",
       "      <td>7499 Benjamin Ridges Suite 554\\nJamesborough, ...</td>\n",
       "    </tr>\n",
       "    <tr>\n",
       "      <th>3</th>\n",
       "      <td>William Larsen</td>\n",
       "      <td>Ortega</td>\n",
       "      <td>elizabethhicks@example.net</td>\n",
       "      <td>Unit 8004 Box 6218\\nDPO AP 14272</td>\n",
       "    </tr>\n",
       "    <tr>\n",
       "      <th>4</th>\n",
       "      <td>Michael Jordan</td>\n",
       "      <td>Hancock</td>\n",
       "      <td>masseyderrick@example.com</td>\n",
       "      <td>1740 Flores Creek\\nKeithbury, MI 39202</td>\n",
       "    </tr>\n",
       "    <tr>\n",
       "      <th>...</th>\n",
       "      <td>...</td>\n",
       "      <td>...</td>\n",
       "      <td>...</td>\n",
       "      <td>...</td>\n",
       "    </tr>\n",
       "    <tr>\n",
       "      <th>995</th>\n",
       "      <td>Joshua Roth</td>\n",
       "      <td>Harrison</td>\n",
       "      <td>kristi29@example.net</td>\n",
       "      <td>018 Cory Turnpike\\nSouth Bradley, KY 95381</td>\n",
       "    </tr>\n",
       "    <tr>\n",
       "      <th>996</th>\n",
       "      <td>Brenda Richardson</td>\n",
       "      <td>Reyes</td>\n",
       "      <td>mariapugh@example.com</td>\n",
       "      <td>17517 Hernandez Glen Suite 080\\nSouth Emilyber...</td>\n",
       "    </tr>\n",
       "    <tr>\n",
       "      <th>997</th>\n",
       "      <td>Brittany Miller</td>\n",
       "      <td>Marshall</td>\n",
       "      <td>kcooper@example.org</td>\n",
       "      <td>Unit 3449 Box 4502\\nDPO AE 03393</td>\n",
       "    </tr>\n",
       "    <tr>\n",
       "      <th>998</th>\n",
       "      <td>Michael Robinson</td>\n",
       "      <td>Smith</td>\n",
       "      <td>campbelljoshua@example.net</td>\n",
       "      <td>54816 Rice Curve\\nNorth Heather, ME 22154</td>\n",
       "    </tr>\n",
       "    <tr>\n",
       "      <th>999</th>\n",
       "      <td>Tamara Jones</td>\n",
       "      <td>Miller</td>\n",
       "      <td>charles04@example.com</td>\n",
       "      <td>Unit 4295 Box 3043\\nDPO AE 25778</td>\n",
       "    </tr>\n",
       "  </tbody>\n",
       "</table>\n",
       "<p>1000 rows × 4 columns</p>\n",
       "</div>"
      ],
      "text/plain": [
       "                nombre  apellido                       email  \\\n",
       "0          Jennifer Yu     Cross        xhubbard@example.net   \n",
       "1       Tamara Daniels    Sexton         hhughes@example.net   \n",
       "2        Jessica Weber     Munoz   murrayrachael@example.net   \n",
       "3       William Larsen    Ortega  elizabethhicks@example.net   \n",
       "4       Michael Jordan   Hancock   masseyderrick@example.com   \n",
       "..                 ...       ...                         ...   \n",
       "995        Joshua Roth  Harrison        kristi29@example.net   \n",
       "996  Brenda Richardson     Reyes       mariapugh@example.com   \n",
       "997    Brittany Miller  Marshall         kcooper@example.org   \n",
       "998   Michael Robinson     Smith  campbelljoshua@example.net   \n",
       "999       Tamara Jones    Miller       charles04@example.com   \n",
       "\n",
       "                                               address  \n",
       "0    37592 William Burgs Suite 380\\nSouth Randallha...  \n",
       "1    24191 Emily Streets Apt. 241\\nSouth Jennifermo...  \n",
       "2    7499 Benjamin Ridges Suite 554\\nJamesborough, ...  \n",
       "3                     Unit 8004 Box 6218\\nDPO AP 14272  \n",
       "4               1740 Flores Creek\\nKeithbury, MI 39202  \n",
       "..                                                 ...  \n",
       "995         018 Cory Turnpike\\nSouth Bradley, KY 95381  \n",
       "996  17517 Hernandez Glen Suite 080\\nSouth Emilyber...  \n",
       "997                   Unit 3449 Box 4502\\nDPO AE 03393  \n",
       "998          54816 Rice Curve\\nNorth Heather, ME 22154  \n",
       "999                   Unit 4295 Box 3043\\nDPO AE 25778  \n",
       "\n",
       "[1000 rows x 4 columns]"
      ]
     },
     "execution_count": 13,
     "metadata": {},
     "output_type": "execute_result"
    }
   ],
   "source": [
    "data"
   ]
  },
  {
   "cell_type": "code",
   "execution_count": 17,
   "id": "53ef8153-46db-4dc7-894e-4173d4d642cb",
   "metadata": {},
   "outputs": [
    {
     "ename": "SyntaxError",
     "evalue": "invalid syntax (3797038659.py, line 1)",
     "output_type": "error",
     "traceback": [
      "  \u001b[36mCell\u001b[39m\u001b[36m \u001b[39m\u001b[32mIn[17]\u001b[39m\u001b[32m, line 1\u001b[39m\n\u001b[31m    \u001b[39m\u001b[31mdef generar_datos_enteros('30', '50', '1000'):\u001b[39m\n                              ^\n\u001b[31mSyntaxError\u001b[39m\u001b[31m:\u001b[39m invalid syntax\n"
     ]
    }
   ],
   "source": [
    "def generar_datos_enteros(minimo, maximo, cantidad):\n",
    "  \"\"\"Genera una lista de 'cantidad' números enteros aleatorios entre 'minimo' y 'maximo'.\"\"\"\n",
    "  datos = []\n",
    "  for _ in range(cantidad):\n",
    "    datos.append(random.randint(minimo, maximo))\n",
    "  return datos"
   ]
  },
  {
   "cell_type": "code",
   "execution_count": 15,
   "id": "64c542ef-92cd-4f22-9294-fc0d206427a3",
   "metadata": {},
   "outputs": [
    {
     "ename": "AttributeError",
     "evalue": "'Generator' object has no attribute 'randon'",
     "output_type": "error",
     "traceback": [
      "\u001b[31m---------------------------------------------------------------------------\u001b[39m",
      "\u001b[31mAttributeError\u001b[39m                            Traceback (most recent call last)",
      "\u001b[36mCell\u001b[39m\u001b[36m \u001b[39m\u001b[32mIn[15]\u001b[39m\u001b[32m, line 1\u001b[39m\n\u001b[32m----> \u001b[39m\u001b[32m1\u001b[39m data[\u001b[33m'\u001b[39m\u001b[33medad\u001b[39m\u001b[33m'\u001b[39m] = \u001b[43mfake\u001b[49m\u001b[43m.\u001b[49m\u001b[43mrandon\u001b[49m.number(\u001b[32m30\u001b[39m,\u001b[32m50\u001b[39m)\n",
      "\u001b[36mFile \u001b[39m\u001b[32m~\\OneDrive\\Escritorio\\Maestria\\Entornos\\clases\\Lib\\site-packages\\faker\\proxy.py:130\u001b[39m, in \u001b[36mFaker.__getattr__\u001b[39m\u001b[34m(self, attr)\u001b[39m\n\u001b[32m    123\u001b[39m \u001b[38;5;250m\u001b[39m\u001b[33;03m\"\"\"\u001b[39;00m\n\u001b[32m    124\u001b[39m \u001b[33;03mHandles cache access and proxying behavior\u001b[39;00m\n\u001b[32m    125\u001b[39m \n\u001b[32m    126\u001b[39m \u001b[33;03m:param attr: attribute name\u001b[39;00m\n\u001b[32m    127\u001b[39m \u001b[33;03m:return: the appropriate attribute\u001b[39;00m\n\u001b[32m    128\u001b[39m \u001b[33;03m\"\"\"\u001b[39;00m\n\u001b[32m    129\u001b[39m \u001b[38;5;28;01mif\u001b[39;00m \u001b[38;5;28mlen\u001b[39m(\u001b[38;5;28mself\u001b[39m._factories) == \u001b[32m1\u001b[39m:\n\u001b[32m--> \u001b[39m\u001b[32m130\u001b[39m     \u001b[38;5;28;01mreturn\u001b[39;00m \u001b[38;5;28;43mgetattr\u001b[39;49m\u001b[43m(\u001b[49m\u001b[38;5;28;43mself\u001b[39;49m\u001b[43m.\u001b[49m\u001b[43m_factories\u001b[49m\u001b[43m[\u001b[49m\u001b[32;43m0\u001b[39;49m\u001b[43m]\u001b[49m\u001b[43m,\u001b[49m\u001b[43m \u001b[49m\u001b[43mattr\u001b[49m\u001b[43m)\u001b[49m\n\u001b[32m    131\u001b[39m \u001b[38;5;28;01melif\u001b[39;00m attr \u001b[38;5;129;01min\u001b[39;00m \u001b[38;5;28mself\u001b[39m.generator_attrs:\n\u001b[32m    132\u001b[39m     msg = \u001b[33m\"\u001b[39m\u001b[33mProxying calls to `\u001b[39m\u001b[38;5;132;01m%s\u001b[39;00m\u001b[33m` is not implemented in multiple locale mode.\u001b[39m\u001b[33m\"\u001b[39m % attr\n",
      "\u001b[31mAttributeError\u001b[39m: 'Generator' object has no attribute 'randon'"
     ]
    }
   ],
   "source": [
    "data['edad'] = fake.randon.number(30,50)"
   ]
  },
  {
   "cell_type": "code",
   "execution_count": null,
   "id": "101e388b-56c8-4ec0-a7c7-c2c5a6ef3086",
   "metadata": {},
   "outputs": [],
   "source": []
  }
 ],
 "metadata": {
  "kernelspec": {
   "display_name": "Python 3 (ipykernel)",
   "language": "python",
   "name": "python3"
  },
  "language_info": {
   "codemirror_mode": {
    "name": "ipython",
    "version": 3
   },
   "file_extension": ".py",
   "mimetype": "text/x-python",
   "name": "python",
   "nbconvert_exporter": "python",
   "pygments_lexer": "ipython3",
   "version": "3.12.10"
  }
 },
 "nbformat": 4,
 "nbformat_minor": 5
}
